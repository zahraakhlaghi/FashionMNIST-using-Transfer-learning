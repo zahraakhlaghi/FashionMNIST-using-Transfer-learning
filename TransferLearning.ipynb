{
  "nbformat": 4,
  "nbformat_minor": 0,
  "metadata": {
    "colab": {
      "name": "Untitled0.ipynb",
      "provenance": [],
      "collapsed_sections": []
    },
    "kernelspec": {
      "name": "python3",
      "display_name": "Python 3"
    },
    "language_info": {
      "name": "python"
    },
    "accelerator": "GPU"
  },
  "cells": [
    {
      "cell_type": "code",
      "execution_count": 18,
      "metadata": {
        "id": "SHWwiGYeeGoQ"
      },
      "outputs": [],
      "source": [
        "import tensorflow as tf\n",
        "import keras\n",
        "import cv2\n",
        "import scipy\n",
        "import torch \n",
        "import numpy as np\n",
        "from torch.utils.data import SubsetRandomSampler\n",
        "from torchvision import transforms,datasets\n",
        "from tensorflow.keras.utils import to_categorical\n",
        "import matplotlib.pyplot as plt"
      ]
    },
    {
      "cell_type": "markdown",
      "source": [
        "<p dir=\"rtl\">\n",
        "در مدل مورد استفاده، یک تصویر با حداقل اندازه 32x32 با 3 کانال مورد نیاز است و این تابع، تصویر را برای استفاده در مدل آماده میکند. ورودی این تابع image size میتواند اندازه تصویر را به مقدار دلخواه تغییر بدهد.\n",
        "\n",
        "</p>"
      ],
      "metadata": {
        "id": "KzP_uqtTZr-Y"
      }
    },
    {
      "cell_type": "code",
      "source": [
        "def resizeImageArray(source,image_size):\n",
        "    resize = np.resize(source,[source.shape[0],image_size,image_size,1])\n",
        "    for i in range(source.shape[0]):\n",
        "        a = cv2.resize(source[i], dsize=(image_size, image_size), interpolation=cv2.INTER_LANCZOS4)\n",
        "        b = np.resize(a,[image_size,image_size,1])\n",
        "        resize[i] = b\n",
        "    resize = np.repeat(resize,3,axis=3)\n",
        "    return resize"
      ],
      "metadata": {
        "id": "hGgC_rmUEEem"
      },
      "execution_count": 19,
      "outputs": []
    },
    {
      "cell_type": "markdown",
      "source": [
        "<p dir=\"rtl\">\n",
        "این تابع برای آماده سازی مجموعه داده گرفته شده میباشد و مقداری از داده های train برای validation استفاده میشود.\n",
        "تعداد داده های train برابر 55000 و تعداد داده های validation برابر 5000 میباشد  \n",
        "</p>"
      ],
      "metadata": {
        "id": "KY8MsEbNbJfx"
      }
    },
    {
      "cell_type": "code",
      "source": [
        "def load_and_preprocess_data(debug=False):\n",
        "\n",
        "    (X_train, y_train), (X_test, y_test) = tf.keras.datasets.fashion_mnist.load_data()\n",
        "\n",
        "    indexes = np.arange(X_train.shape[0])\n",
        "    for _ in range(5): indexes = np.random.permutation(indexes)  # shuffle 5 times!\n",
        "    X_train = X_train[indexes]\n",
        "    y_train = y_train[indexes]\n",
        "      \n",
        "    val_count = 5000\n",
        "    X_val = X_train[:val_count]\n",
        "    y_val = y_train[:val_count]\n",
        "    X_train = X_train[val_count:]\n",
        "    y_train = y_train[val_count:]\n",
        "\n",
        "    \n",
        "\n",
        "    X_train = X_train.astype('float32') / 255.0\n",
        "    X_val = X_val.astype('float32') / 255.0\n",
        "    X_test = X_test.astype('float32') / 255.0\n",
        "\n",
        "    X_train = np.reshape(X_train, (X_train.shape[0], X_train.shape[1], X_train.shape[2], 1))\n",
        "    X_val = np.reshape(X_val, (X_val.shape[0], X_val.shape[1], X_val.shape[2], 1))\n",
        "    X_test = np.reshape(X_test, (X_test.shape[0], X_test.shape[1], X_test.shape[2], 1))\n",
        "\n",
        "    return (X_train, y_train), (X_val, y_val), (X_test, y_test)"
      ],
      "metadata": {
        "id": "g8ylO_Ylhdhq"
      },
      "execution_count": 20,
      "outputs": []
    },
    {
      "cell_type": "markdown",
      "source": [
        "<p dir=\"rtl\">\n",
        "بارگذاری داده های ورودی و مجموعه داده های خروجی برای قرار گرفتن در مدل و تغییر اندازه ورودی.\n",
        "استفاده از one hot برای y_test,y_train,y_validation.\n",
        "\n",
        "\n",
        "</p>"
      ],
      "metadata": {
        "id": "d6gvjB66cEQ5"
      }
    },
    {
      "cell_type": "code",
      "source": [
        "(X_train, y_train), (X_val, y_val), (X_test, y_test) = load_and_preprocess_data()\n",
        "\n",
        "image_size = 32\n",
        "X_train = resizeImageArray(X_train,image_size)\n",
        "y_train =to_categorical(y_train)\n",
        "\n",
        "X_validation = np.reshape(X_val, [-1, 28, 28, 1])\n",
        "X_validation = resizeImageArray(X_validation,image_size)\n",
        "y_validation =to_categorical(y_val) \n",
        "\n",
        "\n",
        "\n",
        "X_test = np.reshape(X_test,[-1,28,28,1])\n",
        "X_test = resizeImageArray(X_test, image_size)\n",
        "y_test =to_categorical(y_test)"
      ],
      "metadata": {
        "id": "_yNMhdfvGRaP"
      },
      "execution_count": 21,
      "outputs": []
    },
    {
      "cell_type": "code",
      "source": [
        "\n",
        "\n",
        "print('X train = ', X_train.shape)\n",
        "print('y train = ',y_train.shape)\n",
        "print('X validation = ',X_validation.shape)\n",
        "print('X validation = ',y_validation.shape)\n",
        "print('X test = ',X_test.shape)\n",
        "print('y test = ',y_test.shape)\n",
        "\n"
      ],
      "metadata": {
        "colab": {
          "base_uri": "https://localhost:8080/"
        },
        "id": "V0v6Ak8RMhvm",
        "outputId": "b629cfd5-c6ca-4373-fa57-900079d7fc15"
      },
      "execution_count": 22,
      "outputs": [
        {
          "output_type": "stream",
          "name": "stdout",
          "text": [
            "X train =  (55000, 32, 32, 3)\n",
            "y train =  (55000, 10)\n",
            "X validation =  (5000, 32, 32, 3)\n",
            "X validation =  (5000, 10)\n",
            "X test =  (10000, 32, 32, 3)\n",
            "y test =  (10000, 10)\n"
          ]
        }
      ]
    },
    {
      "cell_type": "markdown",
      "source": [
        "<p dir=\"rtl\">\n",
        "ایجاد یک Image Data Generator  برای استفاده در resnet50\n",
        "</p>"
      ],
      "metadata": {
        "id": "7h6L5Na9c_0b"
      }
    },
    {
      "cell_type": "code",
      "source": [
        "batch_size = 128\n",
        "\n",
        "# Preprocess using ResNet50 preprocess\n",
        "train_datagen = keras.preprocessing.image.ImageDataGenerator(\n",
        "    preprocessing_function=tf.keras.applications.resnet50.preprocess_input)\n",
        "validation_datagen = keras.preprocessing.image.ImageDataGenerator(\n",
        "     preprocessing_function=tf.keras.applications.resnet50.preprocess_input)\n",
        "test_datagen = keras.preprocessing.image.ImageDataGenerator(\n",
        "     preprocessing_function=tf.keras.applications.resnet50.preprocess_input)\n",
        "\n",
        "# Flow training images in batches of 128 using train_datagen generator\n",
        "train_generator = train_datagen.flow(\n",
        "    x =  X_train ,  \n",
        "    y =  y_train ,\n",
        "    batch_size=batch_size)\n",
        "\n",
        "validation_generator = validation_datagen.flow(\n",
        "    x = X_validation , \n",
        "    y = y_validation , \n",
        "    batch_size=batch_size)\n",
        "\n",
        "test_generator = test_datagen.flow(\n",
        "    x = X_test , \n",
        "    y = y_test , \n",
        "    batch_size=batch_size)"
      ],
      "metadata": {
        "id": "seB6Hq46HN-S"
      },
      "execution_count": 23,
      "outputs": []
    },
    {
      "cell_type": "markdown",
      "source": [
        "<p dir=\"rtl\">\n",
        "مدلی را که برای transfer learning میخواهیم استفاده کنیم را  بارگذاری میکنیم. برای کوتاه کردن لایه بالایی مدل از include_top = False استفاده میکنیم .ما میخواهیم از وزن های مدل از قبل آموزش دیده استفاده کنیم برای همین از   imagenet استفاده میکنیم.\n",
        "</p>"
      ],
      "metadata": {
        "id": "u9cQJWbYfBjb"
      }
    },
    {
      "cell_type": "code",
      "source": [
        "image_size = 32\n",
        "IMG_SHAPE = (image_size, image_size, 3)\n",
        "\n",
        "# Create the base model from the pre-trained model ResNet50\n",
        "base_model = tf.keras.applications.ResNet50(input_shape=IMG_SHAPE,\n",
        "                                               include_top=False,\n",
        "                                               weights='imagenet')"
      ],
      "metadata": {
        "id": "7ChZiOCdfC04"
      },
      "execution_count": 24,
      "outputs": []
    },
    {
      "cell_type": "markdown",
      "source": [
        "<h1>‫‪feature‬‬ ‫‪extraction‬‬</h1> ‫‪ ‫‬ \n",
        "\n",
        "برای فریز کردن مدل تا وزنها به روز نشوند"
      ],
      "metadata": {
        "id": "IG4zv4YRitQk"
      }
    },
    {
      "cell_type": "code",
      "source": [
        "base_model.trainable = False"
      ],
      "metadata": {
        "id": "rIvqidhqHXyJ"
      },
      "execution_count": 25,
      "outputs": []
    },
    {
      "cell_type": "markdown",
      "source": [
        "کد زیر برای این نوشته شده است که خروجی با خروجی مورد نظر ما مظابقت داشته باشد"
      ],
      "metadata": {
        "id": "JZ6LVOPQjVXe"
      }
    },
    {
      "cell_type": "code",
      "source": [
        "model = tf.keras.Sequential([\n",
        "  base_model,\n",
        "    tf.keras.layers.GlobalAveragePooling2D(),\n",
        "    tf.keras.layers.Dense(1024, activation='relu'),\n",
        "    tf.keras.layers.Dropout(rate=0.5),\n",
        "    tf.keras.layers.Dense(10, activation='softmax')\n",
        "])"
      ],
      "metadata": {
        "id": "LKk9oVesHlrb"
      },
      "execution_count": 26,
      "outputs": []
    },
    {
      "cell_type": "markdown",
      "source": [
        "<p dir=\"rtl\">\n",
        "تابع ضرر، بهینه ساز و متریک مورد استفاده را  با استفاده از بهینه ساز RMSprop تعیین میکنیم.\n",
        "</p>"
      ],
      "metadata": {
        "id": "lKTgtDpyjlkR"
      }
    },
    {
      "cell_type": "code",
      "source": [
        "model.compile(optimizer=tf.keras.optimizers.RMSprop(lr=0.0006),\n",
        "              loss='categorical_crossentropy',\n",
        "              metrics=['accuracy'])"
      ],
      "metadata": {
        "colab": {
          "base_uri": "https://localhost:8080/"
        },
        "id": "vOlbMZwgHo9w",
        "outputId": "c3713506-8ae1-4755-bf6c-a5cf5348c7e8"
      },
      "execution_count": 27,
      "outputs": [
        {
          "output_type": "stream",
          "name": "stderr",
          "text": [
            "/usr/local/lib/python3.7/dist-packages/keras/optimizer_v2/rmsprop.py:130: UserWarning: The `lr` argument is deprecated, use `learning_rate` instead.\n",
            "  super(RMSprop, self).__init__(name, **kwargs)\n"
          ]
        }
      ]
    },
    {
      "cell_type": "code",
      "source": [
        "epochs = 10\n",
        "steps_per_epoch = train_generator.n // batch_size\n",
        "validation_steps = validation_generator.n //batch_size\n",
        "history = model.fit_generator(train_generator,\n",
        "                              validation_data = validation_generator,\n",
        "                              validation_steps = validation_steps,\n",
        "                              steps_per_epoch = steps_per_epoch,\n",
        "                              epochs=epochs,\n",
        "                              workers=4,\n",
        "                              )"
      ],
      "metadata": {
        "colab": {
          "base_uri": "https://localhost:8080/"
        },
        "id": "fcHUjQ_DHryg",
        "outputId": "bd9245f2-81fc-437b-872b-edb7f19141af"
      },
      "execution_count": 28,
      "outputs": [
        {
          "output_type": "stream",
          "name": "stdout",
          "text": [
            "Epoch 1/10\n"
          ]
        },
        {
          "output_type": "stream",
          "name": "stderr",
          "text": [
            "/usr/local/lib/python3.7/dist-packages/ipykernel_launcher.py:9: UserWarning: `Model.fit_generator` is deprecated and will be removed in a future version. Please use `Model.fit`, which supports generators.\n",
            "  if __name__ == '__main__':\n"
          ]
        },
        {
          "output_type": "stream",
          "name": "stdout",
          "text": [
            "429/429 [==============================] - 16s 30ms/step - loss: 1.3491 - accuracy: 0.4996 - val_loss: 1.0140 - val_accuracy: 0.6266\n",
            "Epoch 2/10\n",
            "429/429 [==============================] - 12s 28ms/step - loss: 0.9460 - accuracy: 0.6415 - val_loss: 0.8090 - val_accuracy: 0.6907\n",
            "Epoch 3/10\n",
            "429/429 [==============================] - 12s 29ms/step - loss: 0.8484 - accuracy: 0.6805 - val_loss: 0.8351 - val_accuracy: 0.6819\n",
            "Epoch 4/10\n",
            "429/429 [==============================] - 12s 28ms/step - loss: 0.7933 - accuracy: 0.6982 - val_loss: 0.6842 - val_accuracy: 0.7522\n",
            "Epoch 5/10\n",
            "429/429 [==============================] - 12s 28ms/step - loss: 0.7574 - accuracy: 0.7139 - val_loss: 0.8124 - val_accuracy: 0.7105\n",
            "Epoch 6/10\n",
            "429/429 [==============================] - 12s 28ms/step - loss: 0.7318 - accuracy: 0.7244 - val_loss: 0.7093 - val_accuracy: 0.7330\n",
            "Epoch 7/10\n",
            "429/429 [==============================] - 12s 28ms/step - loss: 0.7154 - accuracy: 0.7291 - val_loss: 0.6366 - val_accuracy: 0.7604\n",
            "Epoch 8/10\n",
            "429/429 [==============================] - 12s 28ms/step - loss: 0.6998 - accuracy: 0.7323 - val_loss: 0.7001 - val_accuracy: 0.7496\n",
            "Epoch 9/10\n",
            "429/429 [==============================] - 12s 28ms/step - loss: 0.6858 - accuracy: 0.7391 - val_loss: 0.6277 - val_accuracy: 0.7656\n",
            "Epoch 10/10\n",
            "429/429 [==============================] - 12s 27ms/step - loss: 0.6772 - accuracy: 0.7426 - val_loss: 0.6059 - val_accuracy: 0.7794\n"
          ]
        }
      ]
    },
    {
      "cell_type": "markdown",
      "source": [
        "از نمودار های زیر برای درک بهتر عملکرد مدل استفاده میکنیم"
      ],
      "metadata": {
        "id": "LmSgaSgZkLhg"
      }
    },
    {
      "cell_type": "code",
      "source": [
        "acc = history.history['accuracy']\n",
        "val_acc = history.history['val_accuracy']\n",
        "\n",
        "loss = history.history['loss']\n",
        "val_loss = history.history['val_loss']\n",
        "\n",
        "plt.figure(figsize=(8, 8))\n",
        "plt.subplot(2, 1, 1)\n",
        "plt.plot(acc, label='Training Accuracy')\n",
        "plt.plot(val_acc, label='Validation Accuracy')\n",
        "plt.ylim([0.2, 1])\n",
        "plt.legend(loc='lower right')\n",
        "plt.title('Training and Validation Accuracy')\n",
        "\n",
        "plt.subplot(2, 1, 2)\n",
        "plt.plot(loss, label='Training Loss')\n",
        "plt.plot(val_loss, label='Validation Loss')\n",
        "plt.ylim([0, 6])\n",
        "plt.legend(loc='upper right')\n",
        "plt.title('Training and Validation Loss')\n",
        "plt.show()\n"
      ],
      "metadata": {
        "colab": {
          "base_uri": "https://localhost:8080/",
          "height": 499
        },
        "id": "MuDCRr4COUhv",
        "outputId": "6e5ba072-a5a6-4478-95b7-332e6baa5159"
      },
      "execution_count": 29,
      "outputs": [
        {
          "output_type": "display_data",
          "data": {
            "text/plain": [
              "<Figure size 576x576 with 2 Axes>"
            ],
            "image/png": "[encoded data removed]"
          },
          "metadata": {
            "needs_background": "light"
          }
        }
      ]
    },
    {
      "cell_type": "code",
      "source": [
        "score, acc = model.evaluate_generator(generator=test_generator,steps=test_generator.n //batch_size)\n",
        "print('Score :%f, Accuracy : %f'%(score,acc))"
      ],
      "metadata": {
        "colab": {
          "base_uri": "https://localhost:8080/"
        },
        "id": "bvUkQdaiOUkP",
        "outputId": "cfa49366-476f-4293-bde6-f82c8db647d7"
      },
      "execution_count": 30,
      "outputs": [
        {
          "output_type": "stream",
          "name": "stderr",
          "text": [
            "/usr/local/lib/python3.7/dist-packages/ipykernel_launcher.py:1: UserWarning: `Model.evaluate_generator` is deprecated and will be removed in a future version. Please use `Model.evaluate`, which supports generators.\n",
            "  \"\"\"Entry point for launching an IPython kernel.\n"
          ]
        },
        {
          "output_type": "stream",
          "name": "stdout",
          "text": [
            "Score :0.615788, Accuracy : 0.764123\n"
          ]
        }
      ]
    },
    {
      "cell_type": "markdown",
      "source": [
        "<h1>‫‪finetune‬‬</h1>\n",
        "در این سناریو وزن ها را از حالت فریز خارج میکنیم و در ابتدا مدل از وزنهای آموزش دیده مدل انتخابی استفاده میکند ولی در مرحله آموزش بعدی امکان تغییر پارامتر های مدل وجود دارد\n"
      ],
      "metadata": {
        "id": "7xRj7FR1kZpl"
      }
    },
    {
      "cell_type": "code",
      "source": [
        "#Unfreeze weight model\n",
        "base_model.trainable = True\n",
        "\n",
        "print(\"Number of layers in the base model: \", len(base_model.layers))\n",
        "\n",
        "fine_tune_at = 150\n",
        "#Freeze weight layer yang tidak ingin ditrain yaitu semua layer sebelum layer 150\n",
        "for layer in base_model.layers[:fine_tune_at]:\n",
        "  layer.trainable =  False"
      ],
      "metadata": {
        "colab": {
          "base_uri": "https://localhost:8080/"
        },
        "id": "MlX_ODIDOUvS",
        "outputId": "34965fef-b702-4084-be18-eb3c0cf9fe77"
      },
      "execution_count": 31,
      "outputs": [
        {
          "output_type": "stream",
          "name": "stdout",
          "text": [
            "Number of layers in the base model:  175\n"
          ]
        }
      ]
    },
    {
      "cell_type": "code",
      "source": [
        "model.compile(optimizer = tf.keras.optimizers.RMSprop(lr=5e-5),\n",
        "              loss='categorical_crossentropy',\n",
        "              metrics=['accuracy'])\n"
      ],
      "metadata": {
        "colab": {
          "base_uri": "https://localhost:8080/"
        },
        "id": "6fbPopa6ObAF",
        "outputId": "edaef85d-3202-48db-9b9d-a6ec43816ed4"
      },
      "execution_count": 32,
      "outputs": [
        {
          "output_type": "stream",
          "name": "stderr",
          "text": [
            "/usr/local/lib/python3.7/dist-packages/keras/optimizer_v2/rmsprop.py:130: UserWarning: The `lr` argument is deprecated, use `learning_rate` instead.\n",
            "  super(RMSprop, self).__init__(name, **kwargs)\n"
          ]
        }
      ]
    },
    {
      "cell_type": "code",
      "source": [
        "history_fine = model.fit(train_generator,\n",
        "                                   steps_per_epoch = steps_per_epoch,\n",
        "                                   epochs=epochs,\n",
        "                                   workers=4,\n",
        "                                   validation_data=validation_generator,\n",
        "                                   validation_steps=validation_steps)\n"
      ],
      "metadata": {
        "colab": {
          "base_uri": "https://localhost:8080/"
        },
        "id": "8kccuhs6Oe5i",
        "outputId": "73b177f4-35b4-4dbe-c5b0-d6f3bac5f97c"
      },
      "execution_count": 33,
      "outputs": [
        {
          "output_type": "stream",
          "name": "stdout",
          "text": [
            "Epoch 1/10\n",
            "429/429 [==============================] - 21s 41ms/step - loss: 1.0432 - accuracy: 0.7451 - val_loss: 1.3736 - val_accuracy: 0.5473\n",
            "Epoch 2/10\n",
            "429/429 [==============================] - 17s 39ms/step - loss: 0.4957 - accuracy: 0.8279 - val_loss: 0.5734 - val_accuracy: 0.8271\n",
            "Epoch 3/10\n",
            "429/429 [==============================] - 16s 38ms/step - loss: 0.4116 - accuracy: 0.8537 - val_loss: 0.6186 - val_accuracy: 0.8181\n",
            "Epoch 4/10\n",
            "429/429 [==============================] - 16s 38ms/step - loss: 0.3643 - accuracy: 0.8688 - val_loss: 1.5183 - val_accuracy: 0.7893\n",
            "Epoch 5/10\n",
            "429/429 [==============================] - 16s 38ms/step - loss: 0.3260 - accuracy: 0.8821 - val_loss: 0.7760 - val_accuracy: 0.8387\n",
            "Epoch 6/10\n",
            "429/429 [==============================] - 17s 39ms/step - loss: 0.3063 - accuracy: 0.8903 - val_loss: 0.5401 - val_accuracy: 0.8488\n",
            "Epoch 7/10\n",
            "429/429 [==============================] - 17s 39ms/step - loss: 0.2802 - accuracy: 0.8977 - val_loss: 1.2676 - val_accuracy: 0.8203\n",
            "Epoch 8/10\n",
            "429/429 [==============================] - 16s 38ms/step - loss: 0.2640 - accuracy: 0.9040 - val_loss: 0.6030 - val_accuracy: 0.8532\n",
            "Epoch 9/10\n",
            "429/429 [==============================] - 17s 38ms/step - loss: 0.2476 - accuracy: 0.9116 - val_loss: 1.1255 - val_accuracy: 0.8205\n",
            "Epoch 10/10\n",
            "429/429 [==============================] - 16s 38ms/step - loss: 0.2408 - accuracy: 0.9164 - val_loss: 1.0160 - val_accuracy: 0.8205\n"
          ]
        }
      ]
    },
    {
      "cell_type": "markdown",
      "source": [
        "کد های زیر برای رسم نمودار جهت فهم بهتر مدل استفاده میشود"
      ],
      "metadata": {
        "id": "-xHPrC5XlfsZ"
      }
    },
    {
      "cell_type": "code",
      "source": [
        "acc = history_fine.history['accuracy']\n",
        "val_acc = history_fine.history['val_accuracy']\n",
        "\n",
        "loss += history_fine.history['loss']\n",
        "val_loss += history_fine.history['val_loss']\n",
        "\n",
        "plt.figure(figsize=(8, 8))\n",
        "plt.subplot(2, 1, 1)\n",
        "plt.plot(acc, label='Training Accuracy')\n",
        "plt.plot(val_acc, label='Validation Accuracy')\n",
        "plt.ylim([0.2, 1])\n",
        "plt.legend(loc='lower right')\n",
        "plt.title('Training and Validation Accuracy')\n",
        "\n",
        "plt.subplot(2, 1, 2)\n",
        "plt.plot(loss, label='Training Loss')\n",
        "plt.plot(val_loss, label='Validation Loss')\n",
        "plt.ylim([0, 6])\n",
        "plt.legend(loc='upper right')\n",
        "plt.title('Training and Validation Loss')\n",
        "plt.show()"
      ],
      "metadata": {
        "colab": {
          "base_uri": "https://localhost:8080/",
          "height": 499
        },
        "id": "7I5HXZ6DZQJ9",
        "outputId": "841274bb-8379-4ecc-f7e1-e90e0ba0fbb7"
      },
      "execution_count": 36,
      "outputs": [
        {
          "output_type": "display_data",
          "data": {
            "text/plain": [
              "<Figure size 576x576 with 2 Axes>"
            ],
            "image/png": "[encoded data removed]"
          },
          "metadata": {
            "needs_background": "light"
          }
        }
      ]
    },
    {
      "cell_type": "code",
      "source": [
        "score, acc = model.evaluate_generator(generator=test_generator,steps=test_generator.n //batch_size)\n",
        "print('Score :%f, Accuracy : %f'%(score,acc))"
      ],
      "metadata": {
        "colab": {
          "base_uri": "https://localhost:8080/"
        },
        "id": "OkXN3qvUZU8P",
        "outputId": "487846c1-b900-4260-84ef-9ee1f8c83fae"
      },
      "execution_count": 37,
      "outputs": [
        {
          "output_type": "stream",
          "name": "stderr",
          "text": [
            "/usr/local/lib/python3.7/dist-packages/ipykernel_launcher.py:1: UserWarning: `Model.evaluate_generator` is deprecated and will be removed in a future version. Please use `Model.evaluate`, which supports generators.\n",
            "  \"\"\"Entry point for launching an IPython kernel.\n"
          ]
        },
        {
          "output_type": "stream",
          "name": "stdout",
          "text": [
            "Score :1.061297, Accuracy : 0.805789\n"
          ]
        }
      ]
    }
  ]
}